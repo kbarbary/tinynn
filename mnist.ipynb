{
 "cells": [
  {
   "cell_type": "code",
   "execution_count": 1,
   "metadata": {},
   "outputs": [],
   "source": [
    "import numpy as np\n",
    "import matplotlib.pyplot as plt\n",
    "\n",
    "import tinynn\n",
    "from tinynn import Dense, BatchNorm, ReLU, Sigmoid, Softmax, Conv, Pool, Flatten, Transpose\n",
    "\n",
    "%matplotlib inline"
   ]
  },
  {
   "cell_type": "code",
   "execution_count": 2,
   "metadata": {},
   "outputs": [],
   "source": [
    "# read data\n",
    "X_train, y_train = tinynn.load_mnist('train')\n",
    "X_test, y_test = tinynn.load_mnist('test')"
   ]
  },
  {
   "cell_type": "code",
   "execution_count": 3,
   "metadata": {},
   "outputs": [],
   "source": [
    "# preprocessing\n",
    "normalize = tinynn.normalizer(X_train, axis=0)\n",
    "\n",
    "def flatten(X):\n",
    "    return X.reshape((X.shape[0], -1))\n",
    "\n",
    "Xs, Ys = tinynn.partition(X_train, y_train, axis=0, size=1000)"
   ]
  },
  {
   "cell_type": "code",
   "execution_count": 4,
   "metadata": {},
   "outputs": [
    {
     "data": {
      "text/plain": [
       "(1000, 28, 28)"
      ]
     },
     "execution_count": 4,
     "metadata": {},
     "output_type": "execute_result"
    }
   ],
   "source": [
    "normalize(Xs[0]).shape"
   ]
  },
  {
   "cell_type": "code",
   "execution_count": 5,
   "metadata": {},
   "outputs": [
    {
     "data": {
      "text/plain": [
       "(1000, 28, 28)"
      ]
     },
     "execution_count": 5,
     "metadata": {},
     "output_type": "execute_result"
    }
   ],
   "source": [
    "Xs[0].shape"
   ]
  },
  {
   "cell_type": "code",
   "execution_count": 6,
   "metadata": {},
   "outputs": [
    {
     "data": {
      "text/plain": [
       "(1000,)"
      ]
     },
     "execution_count": 6,
     "metadata": {},
     "output_type": "execute_result"
    }
   ],
   "source": [
    "Ys[0].shape"
   ]
  },
  {
   "cell_type": "code",
   "execution_count": 7,
   "metadata": {},
   "outputs": [],
   "source": [
    "fc_network = tinynn.Network(Dense(28*28, 100, bias=False), BatchNorm(100), ReLU(),\n",
    "                            Dense(100, 10, bias=False), BatchNorm(10), Softmax(),\n",
    "                            x_preprocess=lambda x: flatten(normalize(x)),\n",
    "                            y_preprocess=tinynn.onehot,\n",
    "                            postprocess=lambda x: np.argmax(x, axis=1))"
   ]
  },
  {
   "cell_type": "code",
   "execution_count": 8,
   "metadata": {},
   "outputs": [
    {
     "name": "stderr",
     "output_type": "stream",
     "text": [
      "100%|██████████| 20/20 [00:25<00:00,  1.28s/it, cost=0.181]\n"
     ]
    },
    {
     "data": {
      "text/plain": [
       "<tinynn.network.Network at 0x7fd2a270c438>"
      ]
     },
     "execution_count": 8,
     "metadata": {},
     "output_type": "execute_result"
    }
   ],
   "source": [
    "fc_network.train(Xs, Ys, niter=20,\n",
    "                 opt_type=tinynn.ADAM, opt_params={'α': 0.0005})"
   ]
  },
  {
   "cell_type": "code",
   "execution_count": 9,
   "metadata": {},
   "outputs": [
    {
     "data": {
      "text/plain": [
       "Text(0.5,0,'iteration')"
      ]
     },
     "execution_count": 9,
     "metadata": {},
     "output_type": "execute_result"
    },
    {
     "data": {
      "image/png": "[encoded data removed]",
      "text/plain": [
       "<Figure size 432x288 with 1 Axes>"
      ]
     },
     "metadata": {},
     "output_type": "display_data"
    }
   ],
   "source": [
    "# show training cost\n",
    "plt.plot(fc_network.costs)\n",
    "plt.ylim(ymin=0.0)\n",
    "plt.ylabel(\"cost\")\n",
    "plt.xlabel(\"iteration\")"
   ]
  },
  {
   "cell_type": "code",
   "execution_count": 10,
   "metadata": {},
   "outputs": [
    {
     "name": "stdout",
     "output_type": "stream",
     "text": [
      "train set\n",
      "Truth:      [5 0 4 1 9 2 1 3 1 4 3 5 3 6 1 7 2 8 6 9 4 0 9 1 1 2 4 3 2 7]\n",
      "Prediction: [5 0 4 1 9 2 1 3 1 4 3 5 3 6 1 7 2 8 6 9 4 0 9 1 3 2 4 3 2 7]\n",
      "Correct:  98.22%\n",
      "\n",
      "test set\n",
      "Truth:      [7 2 1 0 4 1 4 9 5 9 0 6 9 0 1 5 9 7 3 4 9 6 6 5 4 0 7 4 0 1]\n",
      "Prediction: [7 2 1 0 4 1 4 9 5 9 0 6 9 0 1 5 9 7 8 4 9 6 6 5 4 0 7 4 0 1]\n",
      "Correct:  96.77%\n",
      "\n"
     ]
    }
   ],
   "source": [
    "# Validate\n",
    "for l in fc_network.layers:\n",
    "    l.active = False\n",
    "\n",
    "for key, X, Y in [('train', X_train, y_train),\n",
    "                  ('test', X_test, y_test)]:\n",
    "    print(key, 'set')\n",
    "    predictions = fc_network.predict(X)\n",
    "    print(\"Truth:     \", Y[:30])\n",
    "    print(\"Prediction:\", predictions[:30])\n",
    "\n",
    "    correct = (predictions == Y).mean()\n",
    "    print(\"Correct: {:6.2f}%\\n\".format(100.0 * correct))"
   ]
  },
  {
   "cell_type": "markdown",
   "metadata": {},
   "source": [
    "## Conv network"
   ]
  },
  {
   "cell_type": "code",
   "execution_count": null,
   "metadata": {},
   "outputs": [],
   "source": [
    "network.predict(Xs[0][0:10, ...]).shape"
   ]
  },
  {
   "cell_type": "code",
   "execution_count": null,
   "metadata": {},
   "outputs": [],
   "source": [
    "conv = Conv(1, 10, (3, 3), stride=(1, 1))\n",
    "%time conv(Xs[0][..., None])"
   ]
  },
  {
   "cell_type": "code",
   "execution_count": null,
   "metadata": {},
   "outputs": [],
   "source": [
    "# preprocessing\n",
    "normalize = tinynn.normalizer(X_train[..., None], axis=0)\n",
    "\n",
    "def flatten(X):\n",
    "    return X.reshape((X.shape[0], -1))\n",
    "\n",
    "Xs, Ys = tinynn.partition(X_train, y_train, axis=0, size=1000)"
   ]
  },
  {
   "cell_type": "code",
   "execution_count": null,
   "metadata": {},
   "outputs": [],
   "source": [
    "# Define network\n",
    "network = tinynn.Network(Conv(1, 10, (3, 3), stride=(1, 1)), ReLU(), # 14\n",
    "                         Pool((2, 2), stride=(2, 2)), \n",
    "                         Conv(10, 20, (3, 3), stride=(2, 2)), ReLU(),\n",
    "                         Pool((2, 2), stride=(2, 2)),  \n",
    "                         #Flatten(),\n",
    "                         x_preprocess=lambda X: normalize(X[..., None]),\n",
    "                         y_preprocess=tinynn.onehot)\n",
    "                         #postprocess=lambda x: np.argmax(x, axis=0))"
   ]
  }
 ],
 "metadata": {
  "kernelspec": {
   "display_name": "Python 3",
   "language": "python",
   "name": "python3"
  },
  "language_info": {
   "codemirror_mode": {
    "name": "ipython",
    "version": 3
   },
   "file_extension": ".py",
   "mimetype": "text/x-python",
   "name": "python",
   "nbconvert_exporter": "python",
   "pygments_lexer": "ipython3",
   "version": "3.6.5"
  }
 },
 "nbformat": 4,
 "nbformat_minor": 2
}
